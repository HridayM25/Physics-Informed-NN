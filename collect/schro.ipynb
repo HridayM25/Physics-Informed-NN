{
 "cells": [
  {
   "cell_type": "code",
   "execution_count": 1,
   "metadata": {},
   "outputs": [],
   "source": [
    "import scipy.io\n",
    "from scipy.interpolate import griddata\n",
    "import numpy as np\n",
    "import torch"
   ]
  },
  {
   "cell_type": "code",
   "execution_count": 8,
   "metadata": {},
   "outputs": [],
   "source": [
    "data = scipy.io.loadmat(r'C:\\Users\\hrida\\Physics-Informed-NN\\data\\NLS.mat')"
   ]
  },
  {
   "cell_type": "code",
   "execution_count": 11,
   "metadata": {},
   "outputs": [
    {
     "data": {
      "text/plain": [
       "dict_keys(['__header__', '__version__', '__globals__', 'tt', 'uu', 'x'])"
      ]
     },
     "execution_count": 11,
     "metadata": {},
     "output_type": "execute_result"
    }
   ],
   "source": [
    "data.keys()"
   ]
  },
  {
   "cell_type": "code",
   "execution_count": 12,
   "metadata": {},
   "outputs": [],
   "source": [
    "x = data['x'].flatten()[:, None]\n",
    "t = data['tt'].flatten()[:, None]"
   ]
  },
  {
   "cell_type": "code",
   "execution_count": 17,
   "metadata": {},
   "outputs": [],
   "source": [
    "u = data['uu']  \n",
    "real = np.real(u)\n",
    "complex = np.imag(u)"
   ]
  },
  {
   "cell_type": "code",
   "execution_count": 19,
   "metadata": {},
   "outputs": [
    {
     "data": {
      "text/plain": [
       "array([[0.02695056, 0.02827012, 0.0288274 , ..., 0.02665185, 0.02656448,\n",
       "        0.02636017],\n",
       "       [0.02802405, 0.02842761, 0.02894688, ..., 0.02668994, 0.02647879,\n",
       "        0.02632516],\n",
       "       [0.02914028, 0.02890443, 0.0292946 , ..., 0.02671541, 0.02650992,\n",
       "        0.02630184],\n",
       "       ...,\n",
       "       [0.03030097, 0.02977699, 0.02991428, ..., 0.02673252, 0.02654369,\n",
       "        0.02642052],\n",
       "       [0.02914028, 0.02890443, 0.0292946 , ..., 0.02671541, 0.02650992,\n",
       "        0.02630184],\n",
       "       [0.02802405, 0.02842761, 0.02894688, ..., 0.02668994, 0.02647879,\n",
       "        0.02632516]])"
      ]
     },
     "execution_count": 19,
     "metadata": {},
     "output_type": "execute_result"
    }
   ],
   "source": [
    "real"
   ]
  },
  {
   "cell_type": "code",
   "execution_count": 20,
   "metadata": {},
   "outputs": [
    {
     "data": {
      "text/plain": [
       "array([[0.        , 0.00146903, 0.00213867, ..., 0.04351623, 0.04371347,\n",
       "        0.04372676],\n",
       "       [0.        , 0.00135905, 0.00205622, ..., 0.04357945, 0.043702  ,\n",
       "        0.0436945 ],\n",
       "       [0.        , 0.00097615, 0.00178398, ..., 0.04375932, 0.04371189,\n",
       "        0.04379966],\n",
       "       ...,\n",
       "       [0.        , 0.00049188, 0.00138559, ..., 0.04401975, 0.04390328,\n",
       "        0.04400636],\n",
       "       [0.        , 0.00097615, 0.00178398, ..., 0.04375932, 0.04371189,\n",
       "        0.04379966],\n",
       "       [0.        , 0.00135905, 0.00205622, ..., 0.04357945, 0.043702  ,\n",
       "        0.0436945 ]])"
      ]
     },
     "execution_count": 20,
     "metadata": {},
     "output_type": "execute_result"
    }
   ],
   "source": [
    "complex"
   ]
  },
  {
   "cell_type": "code",
   "execution_count": 23,
   "metadata": {},
   "outputs": [],
   "source": [
    "modulus = np.sqrt(real**2 + complex**2)"
   ]
  },
  {
   "cell_type": "code",
   "execution_count": 25,
   "metadata": {},
   "outputs": [],
   "source": [
    "X, T = np.meshgrid(x,t)"
   ]
  },
  {
   "cell_type": "code",
   "execution_count": 26,
   "metadata": {},
   "outputs": [],
   "source": [
    "train = torch.concat([torch.Tensor(X.flatten()[:, None]), torch.Tensor(T.flatten()[:, None])], 1)"
   ]
  },
  {
   "cell_type": "code",
   "execution_count": 27,
   "metadata": {},
   "outputs": [
    {
     "data": {
      "text/plain": [
       "torch.Size([51456, 2])"
      ]
     },
     "execution_count": 27,
     "metadata": {},
     "output_type": "execute_result"
    }
   ],
   "source": [
    "train.shape"
   ]
  },
  {
   "cell_type": "code",
   "execution_count": 28,
   "metadata": {},
   "outputs": [],
   "source": [
    "h_star = torch.Tensor(modulus.T.flatten()[:, None])\n",
    "u_star = torch.Tensor(real.T.flatten()[:, None])\n",
    "v_star = torch.Tensor(complex.T.flatten()[:, None])"
   ]
  },
  {
   "cell_type": "code",
   "execution_count": 30,
   "metadata": {},
   "outputs": [
    {
     "data": {
      "text/plain": [
       "(torch.Size([51456, 1]), torch.Size([51456, 1]), torch.Size([51456, 1]))"
      ]
     },
     "execution_count": 30,
     "metadata": {},
     "output_type": "execute_result"
    }
   ],
   "source": [
    "u_star.shape, v_star.shape, h_star.shape"
   ]
  }
 ],
 "metadata": {
  "kernelspec": {
   "display_name": "base",
   "language": "python",
   "name": "python3"
  },
  "language_info": {
   "codemirror_mode": {
    "name": "ipython",
    "version": 3
   },
   "file_extension": ".py",
   "mimetype": "text/x-python",
   "name": "python",
   "nbconvert_exporter": "python",
   "pygments_lexer": "ipython3",
   "version": "3.9.7"
  }
 },
 "nbformat": 4,
 "nbformat_minor": 2
}
