{
 "cells": [
  {
   "cell_type": "code",
   "execution_count": 7,
   "metadata": {},
   "outputs": [],
   "source": [
    "import numpy as np \n",
    "import torch\n",
    "import torch.nn as nn \n",
    "import matplotlib.pyplot as plt \n",
    "import warnings\n",
    "warnings.filterwarnings(\"ignore\")\n",
    "from schrodingerCollect import getData"
   ]
  },
  {
   "cell_type": "markdown",
   "metadata": {},
   "source": [
    "$iht+0.5hxx+|h|^2h=0$\n",
    "\n",
    "$x∈[−5,5], t∈[0,π/2]$,\n",
    "\n",
    "$h(0,x)=2sech(x)$,\n",
    "\n",
    "$h(t,−5)=h(t,5)$,\n",
    "\n",
    "$hx(t,−5)=hx(t,5)$"
   ]
  },
  {
   "cell_type": "code",
   "execution_count": 8,
   "metadata": {},
   "outputs": [],
   "source": [
    "train, h_star, u_star, v_star = getData()"
   ]
  },
  {
   "cell_type": "code",
   "execution_count": 11,
   "metadata": {},
   "outputs": [
    {
     "data": {
      "text/plain": [
       "(tensor([[0.0270],\n",
       "         [0.0280],\n",
       "         [0.0291],\n",
       "         ...,\n",
       "         [0.0264],\n",
       "         [0.0263],\n",
       "         [0.0263]]),\n",
       " tensor([[0.0000],\n",
       "         [0.0000],\n",
       "         [0.0000],\n",
       "         ...,\n",
       "         [0.0440],\n",
       "         [0.0438],\n",
       "         [0.0437]]))"
      ]
     },
     "execution_count": 11,
     "metadata": {},
     "output_type": "execute_result"
    }
   ],
   "source": [
    "u_star, v_star"
   ]
  },
  {
   "cell_type": "code",
   "execution_count": 13,
   "metadata": {},
   "outputs": [],
   "source": [
    "#Make a network for h \n",
    "class Network(nn.Module):\n",
    "    def __init__(self):\n",
    "        super(Network, self).__init__()\n",
    "        self.fc1 = nn.Linear(2, 16)\n",
    "        self.fc2 = nn.Linear(16,32)\n",
    "        self.fc3 = nn.Linear(32,2)\n",
    "    \n",
    "    def forward(self,x):\n",
    "        x = nn.functional.relu(self.fc1(x))\n",
    "        x = nn.functional.relu(self.fc2(x))\n",
    "        x = self.fc3(x)\n",
    "        return x"
   ]
  },
  {
   "cell_type": "code",
   "execution_count": 17,
   "metadata": {},
   "outputs": [
    {
     "data": {
      "text/plain": [
       "tensor([[0.0270+0.0000j],\n",
       "        [0.0280+0.0000j],\n",
       "        [0.0291+0.0000j],\n",
       "        ...,\n",
       "        [0.0264+0.0440j],\n",
       "        [0.0263+0.0438j],\n",
       "        [0.0263+0.0437j]])"
      ]
     },
     "execution_count": 17,
     "metadata": {},
     "output_type": "execute_result"
    }
   ],
   "source": [
    "u_star + v_star * 1j"
   ]
  },
  {
   "cell_type": "code",
   "execution_count": null,
   "metadata": {},
   "outputs": [],
   "source": [
    "#Making the Physics Informed NN here, look at `physics` to adjust between PINN and Vanilla NN.\n",
    "class PINN():\n",
    "    def __init__(self, X, u, v, h, lb, ub, physics):\n",
    "        \n",
    "        self.lb = torch.tensor(lb).float()\n",
    "        self.ub = torch.tensor(ub).float()\n",
    "        self.physics = physics\n",
    "        \n",
    "        self.x = torch.tensor(X[:, 0:1], requires_grad=True).float()\n",
    "        self.t = torch.tensor(X[:, 1:2], requires_grad=True).float()\n",
    "        self.u = torch.tensor(u).float()\n",
    "        self.v = torch.tensor(v).float()\n",
    "        self.h = np.vstack([u,v]).T\n",
    "        \n",
    "        self.network = Network()\n",
    "        \n",
    "        self.optimizer = torch.optim.Adam(self.network.parameters(), lr=0.001)\n",
    "        \n",
    "    def makeNetwork(self, x,t):\n",
    "        X = torch.cat([x,t],1)\n",
    "        return self.network(X)\n",
    "    \n",
    "    def residual(self, x,t):\n",
    "        h = self.makeNetwork(x,t)\n",
    "        real = h[:, 0]\n",
    "        imaginary = h[:, 1] \n",
    "        #h outputs a tensor like [u, v] which corresponds to u + iv\n",
    "        h_t = torch.autograd.grad(h, t, grad_outputs=torch.ones_like(h), retain_graph=True)\n",
    "        h_x = torch.autograd.grad(h, x, grad_outputs = torch.ones_like(h), retain_graph= True)\n",
    "        h_xx = torch.autograd.grad(h_x, x, grad_outputs=torch.ones_like(h_x), retain_graph = True)\n",
    "        \n",
    "        return h_t * 1j + 0.5 * h_xx + (real**2 + imaginary**2) * h\n",
    "    \n",
    "    # def loss(self, x, t):\n",
    "    #     loss1 = torch.mean((self.makeNetwork(x,t) - self.h)**2)\n",
    "    #     loss2 = torch.mean(self.residual(x,t)**2)\n",
    "    #     return loss1 + loss2"
   ]
  }
 ],
 "metadata": {
  "kernelspec": {
   "display_name": "base",
   "language": "python",
   "name": "python3"
  },
  "language_info": {
   "codemirror_mode": {
    "name": "ipython",
    "version": 3
   },
   "file_extension": ".py",
   "mimetype": "text/x-python",
   "name": "python",
   "nbconvert_exporter": "python",
   "pygments_lexer": "ipython3",
   "version": "3.9.7"
  }
 },
 "nbformat": 4,
 "nbformat_minor": 2
}
